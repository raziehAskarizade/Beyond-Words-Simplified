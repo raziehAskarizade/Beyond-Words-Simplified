{
 "cells": [
  {
   "cell_type": "code",
   "execution_count": 1,
   "metadata": {},
   "outputs": [
    {
     "name": "stderr",
     "output_type": "stream",
     "text": [
      "c:\\Users\\razieh\\AppData\\Local\\Programs\\Python\\Python312\\Lib\\site-packages\\tqdm\\auto.py:21: TqdmWarning: IProgress not found. Please update jupyter and ipywidgets. See https://ipywidgets.readthedocs.io/en/stable/user_install.html\n",
      "  from .autonotebook import tqdm as notebook_tqdm\n"
     ]
    }
   ],
   "source": [
    "from scripts.graph_constructors.GraphConstructor import TextGraphType\n",
    "import os\n",
    "from scripts.graph_data_modules.AGGraphDataModule import AGGraphDataModule\n",
    "import torch\n",
    "# from torch.utils.flop_counter import FlopCounterMode\n",
    "from scripts.configs.ConfigClass import Config\n",
    "\n",
    "\n",
    "\"\"\" Change the following path to the project root folder\"\"\"\n",
    "root_folder = r'C:\\Users\\razieh\\Downloads\\Beyond-Words-Simplified-main\\Beyond-Words-Simplified-main'\n",
    "config = Config(root_folder)\n",
    "os.environ['CUDA_LAUNCH_BLOCKING'] = \"1\"\n",
    "device = torch.device('cuda' if torch.cuda.is_available() else 'cpu')\n",
    "batch_size = 256\n"
   ]
  },
  {
   "cell_type": "code",
   "execution_count": 2,
   "metadata": {},
   "outputs": [],
   "source": [
    "from scripts.models.HeteroDeepGraphEmbedding6 import HeteroDeepGraphEmbedding6"
   ]
  },
  {
   "cell_type": "code",
   "execution_count": 3,
   "metadata": {},
   "outputs": [
    {
     "data": {
      "text/plain": [
       "True"
      ]
     },
     "execution_count": 3,
     "metadata": {},
     "output_type": "execute_result"
    }
   ],
   "source": [
    "device==torch.device('cpu')"
   ]
  },
  {
   "cell_type": "code",
   "execution_count": 4,
   "metadata": {},
   "outputs": [],
   "source": [
    "from scripts.lightnings.LightningModels import HeteroMultiClassLightningModel\n",
    "from scripts.loss_functions.HeteroLossFunctions import MulticlassHeteroLoss1, MulticlassHeteroLoss2, MulticlassHeteroLoss3\n",
    "from lightning.pytorch.callbacks import EarlyStopping, ModelCheckpoint\n",
    "import lightning as L\n",
    "from lightning.pytorch.tuner import Tuner\n",
    "from scripts.managers.ClassifierModelManager import ClassifierModelManager"
   ]
  },
  {
   "cell_type": "code",
   "execution_count": 5,
   "metadata": {},
   "outputs": [
    {
     "name": "stderr",
     "output_type": "stream",
     "text": [
      "2024-04-13 18:23:56 INFO: Checking for updates to resources.json in case models have been updated.  Note: this behavior can be turned off with download_method=None or download_method=DownloadMethod.REUSE_RESOURCES\n",
      "Downloading https://raw.githubusercontent.com/stanfordnlp/stanza-resources/main/resources_1.8.0.json: 379kB [00:00, 412kB/s]                     \n",
      "2024-04-13 18:24:00 INFO: Downloaded file to C:\\Users\\razieh\\stanza_resources\\resources.json\n"
     ]
    }
   ],
   "source": [
    "graph_type = TextGraphType.SEQUENTIAL\n",
    "data_manager = AGGraphDataModule(config, test_size=0.00, val_size=0.05511811, shuffle=False, start_data_load=0 , end_data_load = 7000 , device='cpu', batch_size=batch_size, graph_type=graph_type, load_preprocessed_data = False)\n",
    "data_manager.load_labels()\n",
    "data_manager.load_graphs()"
   ]
  },
  {
   "cell_type": "code",
   "execution_count": null,
   "metadata": {},
   "outputs": [],
   "source": [
    "from scripts.graph_data_modules.Digikala import DigiGraphDataModule\n",
    "\n",
    "graph_type = TextGraphType.SEQUENTIAL\n",
    "data_manager = DigiGraphDataModule(config, test_size=0.00, val_size=0.05511811, shuffle=False, start_data_load=0 , end_data_load = 7000 , device='cpu', batch_size=batch_size, graph_type=graph_type, load_preprocessed_data = False)\n",
    "data_manager.load_labels()\n",
    "data_manager.load_graphs()"
   ]
  },
  {
   "cell_type": "code",
   "execution_count": null,
   "metadata": {},
   "outputs": [],
   "source": [
    "val_dataloader = data_manager.val_dataloader()\n",
    "X3, Y3 = next(iter(val_dataloader))\n",
    "from copy import copy\n",
    "metadata = copy(X3.metadata())"
   ]
  },
  {
   "cell_type": "code",
   "execution_count": null,
   "metadata": {},
   "outputs": [],
   "source": [
    "from os import path\n",
    "from sklearn.metrics import classification_report, f1_score, accuracy_score, precision_score, recall_score, confusion_matrix, hinge_loss\n",
    "import torchmetrics\n",
    "\n",
    "def save_evaluation(model_mgr, eval_dataloader, name_prepend: str='',\n",
    "                 give_confusion_matrix: bool=True, \n",
    "                 give_report: bool=True, \n",
    "                 give_f1_score: bool=False, \n",
    "                 give_accuracy_score: bool=False, \n",
    "                 give_precision_score: bool=False, \n",
    "                 give_recall_score: bool=False, \n",
    "                 give_hinge_loss: bool=False,\n",
    "                 multi_class: bool=False\n",
    "                 ):\n",
    "        \n",
    "        test_metrics_path = path.join(model_mgr.log_dir, model_mgr.log_name, f'version_{model_mgr.logger.version}', f'{name_prepend}_test_metrics.txt')\n",
    "        \n",
    "        y_true = []\n",
    "        y_pred = []\n",
    "        model_mgr.lightning_model.eval()\n",
    "        model_mgr.lightning_model.model.eval()\n",
    "        model_mgr.torch_model.eval()\n",
    "        for X, y in eval_dataloader:\n",
    "            model_mgr.trainer.model.eval()\n",
    "            with torch.no_grad():\n",
    "                y_p = model_mgr.trainer.model(X.to(model_mgr.device))\n",
    "            if type(y_p) is tuple:\n",
    "                y_p = y_p[0]\n",
    "            \n",
    "            if multi_class:\n",
    "                y_pred.append(y_p.detach().to(y.device))\n",
    "                y_true.append(y)\n",
    "            else:\n",
    "                y_pred.append((y_p>0).to(torch.int32).detach().to(y.device))\n",
    "                y_true.append(y.to(torch.int32))\n",
    "        y_true = torch.concat(y_true)\n",
    "        y_pred = torch.concat(y_pred)\n",
    "        print(y_true.shape)\n",
    "        print(y_pred.shape)\n",
    "        if multi_class:\n",
    "            y_true_num = torch.argmax(y_true, dim=1)\n",
    "            y_pred_num = torch.argmax(y_pred, dim=1)\n",
    "        else:\n",
    "            y_true_num = y_true\n",
    "            y_pred_num = y_pred\n",
    "            \n",
    "        print(y_true_num.shape)\n",
    "        print(y_pred_num.shape)\n",
    "        with open(test_metrics_path, 'at+') as f:\n",
    "            if(give_confusion_matrix):\n",
    "                print(f'confusion_matrix: \\n{confusion_matrix(y_true_num, y_pred_num)}', file=f)\n",
    "            if(give_report):\n",
    "                print(classification_report(y_true_num, y_pred_num), file=f)\n",
    "            if(give_f1_score):\n",
    "                if multi_class:\n",
    "                    print(f'f1_score: {f1_score(y_true_num, y_pred_num, average=None)}', file=f)\n",
    "                else:\n",
    "                    print(f'f1_score: {f1_score(y_true_num, y_pred_num)}', file=f)\n",
    "            if(give_accuracy_score):\n",
    "                print(f'accuracy_score: {accuracy_score(y_true_num, y_pred_num)}', file=f)\n",
    "            if(give_precision_score):\n",
    "                if multi_class:\n",
    "                    print(f'f1_score: {precision_score(y_true_num, y_pred_num, average=None)}', file=f)\n",
    "                else:\n",
    "                    print(f'f1_score: {precision_score(y_true_num, y_pred_num)}', file=f)\n",
    "            if(give_recall_score):\n",
    "                if multi_class:\n",
    "                    print(f'f1_score: {recall_score(y_true_num, y_pred_num, average=None)}', file=f)\n",
    "                else:\n",
    "                    print(f'f1_score: {recall_score(y_true_num, y_pred_num)}', file=f)\n",
    "            if(give_hinge_loss):\n",
    "                print(f'hinge_loss: {hinge_loss(y_true_num, y_pred)}', file=f)\n"
   ]
  },
  {
   "cell_type": "code",
   "execution_count": null,
   "metadata": {},
   "outputs": [],
   "source": [
    "# graph_embedding = HeteroDeepGraphEmbedding6(300, 4, metadata, 32, dropout=0.2, edge_type_count=1, active_keys = ['word'])\n",
    "# graph_embedding = graph_embedding.to(device)\n",
    "# flopt_counter = FlopCounterMode(graph_embedding)\n",
    "# with flopt_counter:\n",
    "#     graph_embedding(X3.to(device))"
   ]
  },
  {
   "cell_type": "code",
   "execution_count": null,
   "metadata": {},
   "outputs": [],
   "source": [
    "from typing import List\n",
    "import torch\n",
    "from torch import nn\n",
    "\n",
    "from scripts.loss_functions.HeteroLossArgs import HeteroLossArgs\n",
    "\n",
    "class MulticlassHeteroLoss2(torch.nn.Module):\n",
    "    def __init__(self, exception_keys: List[str], enc_factor=0.0, *args, **kwargs) -> None:\n",
    "        super().__init__(*args, **kwargs)\n",
    "        self.cel_loss=  torch.nn.CrossEntropyLoss()\n",
    "        self.mse_loss = torch.nn.MSELoss()\n",
    "        self.exception_keys = exception_keys\n",
    "        self.enc_factor = enc_factor\n",
    "    \n",
    "    def forward(self, out_pred: HeteroLossArgs, out_main: HeteroLossArgs):\n",
    "        loss = self.cel_loss(out_pred.y, out_main.y)\n",
    "        x_dict_keys = [k for k in out_pred.x_dict.keys() if k not in self.exception_keys]\n",
    "        \n",
    "        for key in x_dict_keys:\n",
    "            tensor1 = out_pred.x_dict[key]\n",
    "            tensor2 = out_main.x_dict[key]\n",
    "            if tensor2.ndim == 1 and tensor2.dtype is torch.long:\n",
    "                tensor2 = torch.nn.functional.one_hot(input=tensor2.to(torch.long), num_classes=tensor1.shape[1]).to(torch.float32)\n",
    "            loss += self.enc_factor * (self.mse_loss(tensor1, tensor2))\n",
    "        return loss"
   ]
  },
  {
   "cell_type": "code",
   "execution_count": null,
   "metadata": {},
   "outputs": [],
   "source": [
    "# Fardin Rastakhiz @ 2023\n",
    "from torch import nn, Tensor\n",
    "import torch.nn.functional as F\n",
    "from torch_geometric.nn import BatchNorm\n",
    "\n",
    "class HeteroLinear(nn.Module):\n",
    "    \n",
    "    def __init__(self, in_feature, out_feature, dropout = 0.2, use_dropout=True, use_batch_norm=False, use_activation=True) -> None:\n",
    "        super().__init__()\n",
    "        self.linear = nn.Linear(in_feature, out_feature)\n",
    "        self.batch_norm = BatchNorm(out_feature)\n",
    "        self.dropout= nn.Dropout(dropout)\n",
    "        self.use_batch_norm = use_batch_norm\n",
    "        self.use_dropout = use_dropout\n",
    "        self.use_activation=use_activation\n",
    "\n",
    "    def forward(self, x: Tensor) -> Tensor:\n",
    "\n",
    "        x = self.linear(x)\n",
    "        if self.use_batch_norm:\n",
    "            x = self.batch_norm(x)\n",
    "        if self.use_activation:\n",
    "            x = F.leaky_relu(x)\n",
    "        if self.use_dropout:\n",
    "            x = self.dropout(x)\n",
    "        return x"
   ]
  },
  {
   "cell_type": "code",
   "execution_count": null,
   "metadata": {},
   "outputs": [],
   "source": [
    "graph_embedding = HeteroDeepGraphEmbedding6(300, 4, metadata, 32, dropout=0.1, edge_type_count=1, active_keys=['word', 'general'])"
   ]
  },
  {
   "cell_type": "code",
   "execution_count": null,
   "metadata": {},
   "outputs": [],
   "source": [
    "y_pred = graph_embedding(X3.cpu())"
   ]
  },
  {
   "cell_type": "code",
   "execution_count": null,
   "metadata": {},
   "outputs": [
    {
     "name": "stderr",
     "output_type": "stream",
     "text": [
      "c:\\Users\\razieh\\AppData\\Local\\Programs\\Python\\Python312\\Lib\\site-packages\\torch\\optim\\lr_scheduler.py:28: UserWarning: The verbose parameter is deprecated. Please use get_last_lr() to access the learning rate.\n",
      "  warnings.warn(\"The verbose parameter is deprecated. Please use get_last_lr() \"\n",
      "c:\\Users\\razieh\\AppData\\Local\\Programs\\Python\\Python312\\Lib\\site-packages\\lightning\\pytorch\\utilities\\parsing.py:198: Attribute 'model' is an instance of `nn.Module` and is already saved during checkpointing. It is recommended to ignore them using `self.save_hyperparameters(ignore=['model'])`.\n",
      "GPU available: False, used: False\n",
      "TPU available: False, using: 0 TPU cores\n",
      "IPU available: False, using: 0 IPUs\n",
      "HPU available: False, using: 0 HPUs\n",
      "Missing logger folder: logs/hetero_model_20_AG\n",
      "\n",
      "  | Name      | Type                      | Params\n",
      "--------------------------------------------------------\n",
      "0 | model     | HeteroDeepGraphEmbedding6 | 88.9 K\n",
      "1 | loss_func | MulticlassHeteroLoss2     | 0     \n",
      "2 | train_acc | MulticlassAccuracy        | 0     \n",
      "3 | val_acc   | MulticlassAccuracy        | 0     \n",
      "4 | test_acc  | MulticlassAccuracy        | 0     \n",
      "--------------------------------------------------------\n",
      "88.9 K    Trainable params\n",
      "1         Non-trainable params\n",
      "88.9 K    Total params\n",
      "0.356     Total estimated model params size (MB)\n",
      "c:\\Users\\razieh\\AppData\\Local\\Programs\\Python\\Python312\\Lib\\site-packages\\lightning\\pytorch\\trainer\\connectors\\data_connector.py:441: The 'train_dataloader' does not have many workers which may be a bottleneck. Consider increasing the value of the `num_workers` argument` to `num_workers=11` in the `DataLoader` to improve performance.\n",
      "c:\\Users\\razieh\\AppData\\Local\\Programs\\Python\\Python312\\Lib\\site-packages\\lightning\\pytorch\\loops\\fit_loop.py:293: The number of training batches (25) is smaller than the logging interval Trainer(log_every_n_steps=50). Set a lower value for log_every_n_steps if you want to see logs for the training epoch.\n",
      "c:\\Users\\razieh\\AppData\\Local\\Programs\\Python\\Python312\\Lib\\site-packages\\lightning\\pytorch\\trainer\\connectors\\data_connector.py:441: The 'val_dataloader' does not have many workers which may be a bottleneck. Consider increasing the value of the `num_workers` argument` to `num_workers=11` in the `DataLoader` to improve performance.\n"
     ]
    },
    {
     "name": "stdout",
     "output_type": "stream",
     "text": [
      "Epoch 69: 100%|██████████| 25/25 [00:05<00:00,  4.63it/s, v_num=0, train_loss_step=0.0489, train_acc_step=0.992, val_acc=0.845, train_loss_epoch=0.058, train_acc_epoch=0.986] "
     ]
    },
    {
     "name": "stderr",
     "output_type": "stream",
     "text": [
      "`Trainer.fit` stopped: `max_epochs=70` reached.\n"
     ]
    },
    {
     "name": "stdout",
     "output_type": "stream",
     "text": [
      "Epoch 69: 100%|██████████| 25/25 [00:05<00:00,  4.62it/s, v_num=0, train_loss_step=0.0489, train_acc_step=0.992, val_acc=0.845, train_loss_epoch=0.058, train_acc_epoch=0.986]\n",
      "torch.Size([386, 4])\n",
      "torch.Size([386, 4])\n",
      "torch.Size([386])\n",
      "torch.Size([386])\n"
     ]
    },
    {
     "data": {
      "image/png": "[encoded data removed]",
      "text/plain": [
       "<Figure size 640x480 with 1 Axes>"
      ]
     },
     "metadata": {},
     "output_type": "display_data"
    }
   ],
   "source": [
    "i=0\n",
    "graph_embedding = HeteroDeepGraphEmbedding6(300, 4, metadata, 32, dropout=0.1, edge_type_count=1, active_keys=['word', 'general'])\n",
    "graph_embedding = graph_embedding.to(device)\n",
    "callbacks = [\n",
    "ModelCheckpoint(save_top_k=5, mode='max', monitor='val_acc', save_last=True)\n",
    "]\n",
    "loss_func = MulticlassHeteroLoss2(exception_keys=['word'], enc_factor=0.0003)\n",
    "optimizer = torch.optim.Adam(graph_embedding.parameters(), lr=0.0045, weight_decay=0.00125)\n",
    "lr_scheduler = torch.optim.lr_scheduler.MultiStepLR(optimizer, milestones=[6, 13, 28, 45, 60], gamma=0.5, verbose=True)\n",
    "lightning_model = HeteroMultiClassLightningModel(graph_embedding, 4,\n",
    "                                    optimizer=optimizer,\n",
    "                                    loss_func=loss_func,\n",
    "                                    learning_rate=0.045,\n",
    "                                    batch_size=batch_size,\n",
    "                                    user_lr_scheduler=True,\n",
    "                                    lr_scheduler=lr_scheduler,\n",
    "                                    min_lr=0.0005\n",
    "                                    ).to(device)\n",
    "lightning_model.model.to(device)\n",
    "    \n",
    "model_manager = ClassifierModelManager(graph_embedding, lightning_model, log_name='hetero_model_20_AG',device=device, num_train_epoch=10)\n",
    "model_manager.fit(datamodule=data_manager)\n",
    "model_manager.save_plot_csv_logger(loss_names=['train_loss_epoch', 'val_loss'], eval_names=['train_acc_epoch', 'val_acc'], name_prepend=f'tests_{i}')\n",
    "model_manager.torch_model = model_manager.torch_model.to(device)\n",
    "save_evaluation(model_manager, data_manager.val_dataloader(), f'{i}',True, True, True, True, True, True, True, multi_class=True)"
   ]
  },
  {
   "cell_type": "code",
   "execution_count": null,
   "metadata": {},
   "outputs": [],
   "source": []
  },
  {
   "cell_type": "code",
   "execution_count": null,
   "metadata": {},
   "outputs": [],
   "source": []
  }
 ],
 "metadata": {
  "kernelspec": {
   "display_name": "Python 3",
   "language": "python",
   "name": "python3"
  },
  "language_info": {
   "codemirror_mode": {
    "name": "ipython",
    "version": 3
   },
   "file_extension": ".py",
   "mimetype": "text/x-python",
   "name": "python",
   "nbconvert_exporter": "python",
   "pygments_lexer": "ipython3",
   "version": "3.12.2"
  }
 },
 "nbformat": 4,
 "nbformat_minor": 2
}
